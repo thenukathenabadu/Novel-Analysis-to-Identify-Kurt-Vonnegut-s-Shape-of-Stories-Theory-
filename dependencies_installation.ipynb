{
 "cells": [
  {
   "cell_type": "code",
   "execution_count": null,
   "id": "a7303b8a",
   "metadata": {},
   "outputs": [],
   "source": [
    "# Uncomment and run the following if you don't have pip installed\n",
    "# !sudo apt install python3-pip"
   ]
  },
  {
   "cell_type": "code",
   "execution_count": null,
   "id": "af7466a8",
   "metadata": {},
   "outputs": [],
   "source": [
    "# For HTTP requests\n",
    "!pip install requests  \n",
    "\n",
    "# For tabulating data\n",
    "!pip install tabulate  \n",
    "\n",
    "# For plotting and visualization\n",
    "!pip install matplotlib  \n",
    "\n",
    "# For Natural Language Toolkit\n",
    "!pip install nltk  \n",
    "\n",
    "# For creating Venn Diagrams\n",
    "!pip install matplotlib-venn  \n",
    "\n",
    "# For Text Analysis\n",
    "!pip install textblob  \n",
    "\n",
    "# For statistical modeling\n",
    "!pip install statsmodels  \n",
    "\n",
    "# For Machine Learning Metrics\n",
    "!pip install scikit-learn  \n",
    "\n",
    "# For Data Handling\n",
    "!pip install pandas  \n",
    "\n",
    "# For Signal Processing\n",
    "!pip install scipy  \n",
    "\n",
    "# For Interactive Plotting\n",
    "!pip install plotly  \n"
   ]
  },
  {
   "cell_type": "code",
   "execution_count": null,
   "id": "c35773bc",
   "metadata": {},
   "outputs": [],
   "source": [
    "import nltk\n",
    "nltk.download('punkt')\n",
    "nltk.download('vader_lexicon')"
   ]
  },
  {
   "cell_type": "code",
   "execution_count": null,
   "id": "f876e01b",
   "metadata": {},
   "outputs": [],
   "source": [
    "## Check if everything works\n",
    "import requests\n",
    "from tabulate import tabulate\n",
    "from urllib3.util.retry import Retry\n",
    "from requests.adapters import HTTPAdapter\n",
    "import matplotlib.pyplot as plt\n",
    "from itertools import combinations\n",
    "from matplotlib_venn import venn3, venn2\n",
    "import re\n",
    "import nltk\n",
    "from nltk.tokenize import word_tokenize, sent_tokenize\n",
    "from nltk.tag import pos_tag\n",
    "from nltk.probability import FreqDist\n",
    "from nltk.corpus import wordnet as wn\n",
    "from nltk.corpus import sentiwordnet as swn\n",
    "from nltk.sentiment import SentimentIntensityAnalyzer\n",
    "from scipy.interpolate import interp1d\n",
    "from textblob import TextBlob\n",
    "from statsmodels.nonparametric.smoothers_lowess import lowess\n",
    "from sklearn.metrics import mean_squared_error\n",
    "from math import sqrt\n",
    "from scipy.stats import pearsonr\n",
    "import plotly.graph_objects as go\n",
    "import os\n",
    "import pandas as pd\n",
    "from scipy.signal import savgol_filter"
   ]
  }
 ],
 "metadata": {
  "kernelspec": {
   "display_name": "Python 3",
   "language": "python",
   "name": "python3"
  },
  "language_info": {
   "codemirror_mode": {
    "name": "ipython",
    "version": 3
   },
   "file_extension": ".py",
   "mimetype": "text/x-python",
   "name": "python",
   "nbconvert_exporter": "python",
   "pygments_lexer": "ipython3",
   "version": "3.8.8"
  }
 },
 "nbformat": 4,
 "nbformat_minor": 5
}
